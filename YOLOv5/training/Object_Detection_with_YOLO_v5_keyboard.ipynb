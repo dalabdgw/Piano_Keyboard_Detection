{
 "cells": [
  {
   "cell_type": "markdown",
   "metadata": {},
   "source": [
    "# Instructions\n",
    "<hr>"
   ]
  },
  {
   "cell_type": "markdown",
   "metadata": {},
   "source": [
    "## 1. install YOLO v5"
   ]
  },
  {
   "cell_type": "code",
   "execution_count": 1,
   "metadata": {
    "colab": {
     "base_uri": "https://localhost:8080/"
    },
    "id": "YyI8mT_s7fcM",
    "outputId": "0443245b-64e1-40bd-9e07-cc9abe3ccd8e"
   },
   "outputs": [
    {
     "name": "stderr",
     "output_type": "stream",
     "text": [
      "Cloning into 'yolov5'...\n"
     ]
    }
   ],
   "source": [
    "!git clone https://github.com/ultralytics/yolov5.git"
   ]
  },
  {
   "cell_type": "markdown",
   "metadata": {},
   "source": [
    "## 2. install requirements.txt"
   ]
  },
  {
   "cell_type": "code",
   "execution_count": 7,
   "metadata": {
    "colab": {
     "base_uri": "https://localhost:8080/"
    },
    "id": "B9ZYCpxg_qmN",
    "outputId": "a9a521b1-5060-4d66-ac03-5dafd27c832a"
   },
   "outputs": [
    {
     "name": "stdout",
     "output_type": "stream",
     "text": [
      "Collecting gitpython>=3.1.30\n",
      "  Using cached GitPython-3.1.32-py3-none-any.whl (188 kB)\n",
      "Collecting matplotlib>=3.3\n",
      "  Using cached matplotlib-3.5.3-cp37-cp37m-win_amd64.whl (7.2 MB)\n"
     ]
    },
    {
     "name": "stderr",
     "output_type": "stream",
     "text": [
      "ERROR: Ignored the following versions that require a different python version: 1.22.0 Requires-Python >=3.8; 1.22.1 Requires-Python >=3.8; 1.22.2 Requires-Python >=3.8; 1.22.3 Requires-Python >=3.8; 1.22.4 Requires-Python >=3.8; 1.23.0 Requires-Python >=3.8; 1.23.0rc1 Requires-Python >=3.8; 1.23.0rc2 Requires-Python >=3.8; 1.23.0rc3 Requires-Python >=3.8; 1.23.1 Requires-Python >=3.8; 1.23.2 Requires-Python >=3.8; 1.23.3 Requires-Python >=3.8; 1.23.4 Requires-Python >=3.8; 1.23.5 Requires-Python >=3.8; 1.24.0 Requires-Python >=3.8; 1.24.0rc1 Requires-Python >=3.8; 1.24.0rc2 Requires-Python >=3.8; 1.24.1 Requires-Python >=3.8; 1.24.2 Requires-Python >=3.8; 1.24.3 Requires-Python >=3.8; 1.24.4 Requires-Python >=3.8; 1.25.0 Requires-Python >=3.9; 1.25.0rc1 Requires-Python >=3.9; 1.25.1 Requires-Python >=3.9; 1.25.2 Requires-Python >=3.9; 3.6.0 Requires-Python >=3.8; 3.6.0rc1 Requires-Python >=3.8; 3.6.0rc2 Requires-Python >=3.8; 3.6.1 Requires-Python >=3.8; 3.6.2 Requires-Python >=3.8; 3.6.3 Requires-Python >=3.8; 3.7.0 Requires-Python >=3.8; 3.7.0rc1 Requires-Python >=3.8; 3.7.1 Requires-Python >=3.8; 3.7.2 Requires-Python >=3.8\n",
      "ERROR: Could not find a version that satisfies the requirement numpy>=1.22.2 (from versions: 1.3.0, 1.4.1, 1.5.0, 1.5.1, 1.6.0, 1.6.1, 1.6.2, 1.7.0, 1.7.1, 1.7.2, 1.8.0, 1.8.1, 1.8.2, 1.9.0, 1.9.1, 1.9.2, 1.9.3, 1.10.0.post2, 1.10.1, 1.10.2, 1.10.4, 1.11.0, 1.11.1, 1.11.2, 1.11.3, 1.12.0, 1.12.1, 1.13.0, 1.13.1, 1.13.3, 1.14.0, 1.14.1, 1.14.2, 1.14.3, 1.14.4, 1.14.5, 1.14.6, 1.15.0, 1.15.1, 1.15.2, 1.15.3, 1.15.4, 1.16.0, 1.16.1, 1.16.2, 1.16.3, 1.16.4, 1.16.5, 1.16.6, 1.17.0, 1.17.1, 1.17.2, 1.17.3, 1.17.4, 1.17.5, 1.18.0, 1.18.1, 1.18.2, 1.18.3, 1.18.4, 1.18.5, 1.19.0, 1.19.1, 1.19.2, 1.19.3, 1.19.4, 1.19.5, 1.20.0, 1.20.1, 1.20.2, 1.20.3, 1.21.0, 1.21.1, 1.21.2, 1.21.3, 1.21.4, 1.21.5, 1.21.6)\n",
      "ERROR: No matching distribution found for numpy>=1.22.2\n"
     ]
    }
   ],
   "source": [
    "!pip install -r ./yolov5/requirements.txt"
   ]
  },
  {
   "cell_type": "code",
   "execution_count": 2,
   "metadata": {},
   "outputs": [
    {
     "name": "stdout",
     "output_type": "stream",
     "text": [
      "False\n",
      "cpu\n"
     ]
    }
   ],
   "source": [
    "import torch\n",
    "USE_CUDA = torch.cuda.is_available()\n",
    "device = torch.device('cuda:0' if USE_CUDA else 'cpu')\n",
    "print(torch.cuda.is_available())\n",
    "print(device)"
   ]
  },
  {
   "cell_type": "code",
   "execution_count": 6,
   "metadata": {
    "colab": {
     "base_uri": "https://localhost:8080/"
    },
    "id": "ealHtRt-BF7x",
    "outputId": "c23ee5ca-9637-4caf-d31e-b6cd848cdf99"
   },
   "outputs": [
    {
     "name": "stdout",
     "output_type": "stream",
     "text": [
      "{'names': ['keyboard'], 'nc': 1, 'train': 'C:/Users/User/Desktop/fingers detection/YOLOV5 - 2023-08-03/C3Pap_openpose/keyboard/images/train/', 'val': 'C:/Users/User/Desktop/fingers detection/YOLOV5 - 2023-08-03/C3Pap_openpose/keyboard/images/val/'}\n",
      "{'names': ['keyboard'], 'nc': 1, 'train': 'C:/Users/User/Desktop/fingers detection/YOLOV5 - 2023-08-03/C3Pap_openpose/keyboard/images/train/', 'val': 'C:/Users/User/Desktop/fingers detection/YOLOV5 - 2023-08-03/C3Pap_openpose/keyboard/images/val/'}\n"
     ]
    }
   ],
   "source": [
    "import yaml\n",
    "\n",
    "with open('keyboard.yaml', 'r') as f:\n",
    "  data = yaml.full_load(f)\n",
    "\n",
    "print(data)\n",
    "data['train'] = 'C:/Users/User/Desktop/fingers detection/YOLOV5 - 2023-08-03/C3Pap_openpose/keyboard/images/train/'\n",
    "\n",
    "data['val'] = 'C:/Users/User/Desktop/fingers detection/YOLOV5 - 2023-08-03/C3Pap_openpose/keyboard/images/val/'\n",
    "\n",
    "with open('keyboard.yaml', 'w') as f:\n",
    "  yaml.dump(data, f)\n",
    "\n",
    "print(data)"
   ]
  },
  {
   "cell_type": "code",
   "execution_count": 7,
   "metadata": {},
   "outputs": [],
   "source": [
    "import os\n",
    "os.environ['KMP_DUPLICATE_LIB_OK'] = 'True'"
   ]
  },
  {
   "cell_type": "code",
   "execution_count": 22,
   "metadata": {},
   "outputs": [
    {
     "name": "stdout",
     "output_type": "stream",
     "text": [
      "2605\n",
      "훈련 데이터 개수: 1563\n",
      "검증 데이터 개수: 521\n",
      "테스트 데이터 개수: 521\n",
      "파일 이동이 완료되었습니다.\n"
     ]
    }
   ],
   "source": [
    "from glob import glob\n",
    "\n",
    "image_paths = glob('keyboard/images/image/*.png')\n",
    "print(len(image_paths))\n",
    "\n",
    "# train_test_split\n",
    "from sklearn.model_selection import train_test_split # train,validation split\n",
    "train_paths, test_paths = train_test_split(image_paths, test_size=0.2, random_state=42)\n",
    "train_paths, val_paths = train_test_split(train_paths, test_size=0.25, random_state=42)\n",
    "\n",
    "# 결과 확인\n",
    "print(\"훈련 데이터 개수:\", len(train_paths))\n",
    "print(\"검증 데이터 개수:\", len(val_paths))\n",
    "print(\"테스트 데이터 개수:\", len(test_paths))\n",
    "\n",
    "# 파일 옮기기\n",
    "import shutil\n",
    "import os\n",
    "\n",
    "def move_files_to_destination(file_paths, destination_folder):\n",
    "    for file_path in file_paths:\n",
    "        filename = os.path.basename(file_path)\n",
    "        destination_path = os.path.join(destination_folder, filename)\n",
    "        shutil.move(file_path, destination_path)\n",
    "\n",
    "# 이동할 폴더 경로 설정\n",
    "train_destination = './keyboard/images/train'\n",
    "val_destination = './keyboard/images/val'\n",
    "test_destination = './keyboard/images/test'\n",
    "\n",
    "# 훈련 데이터 이동\n",
    "move_files_to_destination(train_paths, train_destination)\n",
    "# 검증 데이터 이동\n",
    "move_files_to_destination(val_paths, val_destination)\n",
    "# 테스트 데이터 이동\n",
    "move_files_to_destination(test_paths, test_destination)\n",
    "\n",
    "print(\"파일 이동이 완료되었습니다.\")"
   ]
  },
  {
   "cell_type": "code",
   "execution_count": 36,
   "metadata": {},
   "outputs": [
    {
     "name": "stdout",
     "output_type": "stream",
     "text": [
      "훈련 데이터 개수: 1563\n",
      "검증 데이터 개수: 521\n",
      "테스트 데이터 개수: 521\n",
      "2605\n"
     ]
    }
   ],
   "source": [
    "train_paths_cleaned = [path.replace('keyboard/images/image\\\\', '').replace('.png', '.txt') for path in train_paths]\n",
    "val_paths_cleaned = [path.replace('keyboard/images/image\\\\', '').replace('.png', '.txt') for path in val_paths]\n",
    "test_paths_cleaned = [path.replace('keyboard/images/image\\\\', '').replace('.png', '.txt') for path in test_paths]\n",
    "\n",
    "# 결과 확인\n",
    "print(\"훈련 데이터 개수:\", len(train_paths_cleaned))\n",
    "print(\"검증 데이터 개수:\", len(val_paths_cleaned))\n",
    "print(\"테스트 데이터 개수:\", len(test_paths_cleaned))\n",
    "#print(val_paths_cleaned)\n",
    "\n",
    "label_paths = glob('keyboard/labels/label/*.txt')\n",
    "print(len(label_paths))"
   ]
  },
  {
   "cell_type": "code",
   "execution_count": 37,
   "metadata": {},
   "outputs": [
    {
     "name": "stdout",
     "output_type": "stream",
     "text": [
      "파일 이동이 완료되었습니다.\n"
     ]
    }
   ],
   "source": [
    "import shutil\n",
    "import os\n",
    "\n",
    "def move_files_with_matching_names(source_folder, destination_folder, file_list):\n",
    "    # destination_folder가 존재하지 않으면 생성\n",
    "    os.makedirs(destination_folder, exist_ok=True)\n",
    "\n",
    "    for file_name in file_list:\n",
    "        source_path = os.path.join(source_folder, file_name)\n",
    "        destination_path = os.path.join(destination_folder, file_name)\n",
    "\n",
    "        # 파일 이름이 일치하면 이동\n",
    "        if os.path.exists(source_path):\n",
    "            shutil.move(source_path, destination_path)\n",
    "\n",
    "# 폴더 경로 설정\n",
    "source = './keyboard/labels/label'\n",
    "train_destination = './keyboard/labels/train'\n",
    "val_destination = './keyboard/labels/val'\n",
    "test_destination = './keyboard/labels/test'\n",
    "\n",
    "# 훈련 데이터 이동\n",
    "move_files_with_matching_names(source, train_destination, [os.path.basename(path) for path in label_paths if os.path.basename(path) in train_paths_cleaned])\n",
    "# 검증 데이터 이동\n",
    "move_files_with_matching_names(source, val_destination, [os.path.basename(path) for path in label_paths if os.path.basename(path) in val_paths_cleaned])\n",
    "# 테스트 데이터 이동\n",
    "move_files_with_matching_names(source, test_destination, [os.path.basename(path) for path in label_paths if os.path.basename(path) in test_paths_cleaned])\n",
    "\n",
    "print(\"파일 이동이 완료되었습니다.\")"
   ]
  },
  {
   "attachments": {
    "image-2.png": {
     "image/png": "[encoded data removed]"
    }
   },
   "cell_type": "markdown",
   "metadata": {
    "id": "EZdSZnVhGdoH"
   },
   "source": [
    "# **2.Model Training**\n",
    "* data : About data yaml file directory\n",
    "* weights : Pre-Trained Model file directory (.pt), If you enter nothing model training with random weight value\n",
    "* epochs : epoch \n",
    "* batch : batch_size\n",
    "* cfg: example\n",
    "![image-2.png](attachment:image-2.png)"
   ]
  },
  {
   "cell_type": "code",
   "execution_count": null,
   "metadata": {
    "colab": {
     "base_uri": "https://localhost:8080/"
    },
    "id": "6ii4QDQkCRtr",
    "outputId": "33fa87b1-a992-45ab-a7c3-d5cf82f66afc",
    "scrolled": true
   },
   "outputs": [],
   "source": [
    "# epochs 100\n",
    "!python ./yolov5/train.py --batch 16 --epochs 50 --data keyboard.yaml --cfg ./yolov5/models/yolov5s.yaml --weights yolov5s.pt --name piano_yolov5s_results"
   ]
  },
  {
   "cell_type": "markdown",
   "metadata": {
    "id": "IGU90fUCEe7y"
   },
   "source": [
    "The trained model is saved in the directory specified by --name in the format ./yolov5/runs/. In this exercise, it is saved in the directory ./yolov5/runs/train/piano_yolov5s_results/. You can visualize the training results by accessing the results.png file in that path."
   ]
  },
  {
   "cell_type": "markdown",
   "metadata": {
    "id": "14Oz0hDUKZQE"
   },
   "source": [
    "### Viewing training results with TensorBoard"
   ]
  },
  {
   "cell_type": "code",
   "execution_count": null,
   "metadata": {},
   "outputs": [],
   "source": [
    "%load_ext tensorboard\n",
    "%tensorboard --logdir ./yolov5/runs/"
   ]
  },
  {
   "cell_type": "markdown",
   "metadata": {
    "id": "f0dyjx08G7L4"
   },
   "source": [
    "# 3. **Model Validation**"
   ]
  },
  {
   "cell_type": "markdown",
   "metadata": {
    "id": "nZjCfb5oHhPU"
   },
   "source": [
    "The trained model weights are saved in /content/yolov5/runs/train/hijab_yolov5s_results/weights/best.pt, and they are used to validate the model."
   ]
  },
  {
   "cell_type": "code",
   "execution_count": null,
   "metadata": {
    "colab": {
     "base_uri": "https://localhost:8080/"
    },
    "id": "Lu-w4GggDrOJ",
    "outputId": "f24f2bae-ea94-4edc-db91-ccf9fde9062e"
   },
   "outputs": [],
   "source": [
    "!python ./yolov5/val.py --data ./hijab.yaml --weights ./yolov5/runs/train/hijab_yolov5s_results/weights/best.pt"
   ]
  },
  {
   "cell_type": "markdown",
   "metadata": {
    "id": "KeD4KZqDHQUu"
   },
   "source": [
    "The validation results are saved in /runs/val/exp/."
   ]
  },
  {
   "cell_type": "markdown",
   "metadata": {
    "id": "WRVvxsWVIqyq"
   },
   "source": [
    "# 4. **Model Prediction**\n",
    "* source : Test Image (or Folder) Directory\n",
    "* weights : The path to the weight file (in .pt format) after training is complete.\n",
    "* conf : conf_threshold value (0 ~ 1)\n",
    "\n",
    "\n",
    "To draw bounding boxes, the class score should exceed the specified value. The results are saved in the runs/detect/exp directory. If you repeat the predictions, folders such as exp1, exp2, exp3, etc., will be created in the runs/detect directory, and the results will be recorded in those folders."
   ]
  },
  {
   "cell_type": "code",
   "execution_count": null,
   "metadata": {
    "colab": {
     "base_uri": "https://localhost:8080/"
    },
    "id": "ReFGOg_2JeSA",
    "outputId": "4d7f5897-2d74-44af-e1e2-c34e813cd938"
   },
   "outputs": [],
   "source": [
    "from glob import glob\n",
    "test_img_list = glob('./hijab/images/test/**/*.jpeg', recursive=True)\n",
    "test_img_list2 = glob('./hijab/images/test/**/*.jpg', recursive=True)\n",
    "print(\"length:\", len(test_img_list), len(test_img_list2))\n",
    "print(test_img_list)\n",
    "print(test_img_list2)\n",
    "\n",
    "test_dataset = test_img_list + test_img_list2\n",
    "print(len(test_dataset))"
   ]
  },
  {
   "cell_type": "code",
   "execution_count": null,
   "metadata": {
    "id": "FgIKi6CGSnVT"
   },
   "outputs": [],
   "source": [
    "import os\n",
    "from IPython.display import Image"
   ]
  },
  {
   "cell_type": "code",
   "execution_count": null,
   "metadata": {
    "colab": {
     "base_uri": "https://localhost:8080/",
     "height": 359
    },
    "id": "jWyRAOV6HPjH",
    "outputId": "1315d502-a3df-453b-fcbe-62a059fe1aa1",
    "scrolled": true
   },
   "outputs": [],
   "source": [
    "val_img_path = test_dataset[30]\n",
    "!python ./yolov5/detect.py --weights ./yolov5/runs/train/hijab_yolov5s_results/weights/best.pt --source \"{val_img_path}\"\n",
    "Image(os.path.join('./yolov5/runs/detect/exp/', os.path.basename(val_img_path)))"
   ]
  },
  {
   "cell_type": "code",
   "execution_count": null,
   "metadata": {
    "colab": {
     "base_uri": "https://localhost:8080/",
     "height": 455
    },
    "id": "vMYP63hZNIcC",
    "outputId": "335e1286-6282-4502-fa71-f30af57419c7"
   },
   "outputs": [],
   "source": [
    "val_img_path = test_dataset[14]\n",
    "!python ./yolov5/detect.py --weights ./yolov5/runs/train/hijab_yolov5s_results/weights/best.pt --source \"{val_img_path}\"\n",
    "Image(os.path.join('./yolov5/runs/detect/exp2/', os.path.basename(val_img_path)))"
   ]
  },
  {
   "cell_type": "code",
   "execution_count": null,
   "metadata": {
    "id": "txx9ZEG3VoS9"
   },
   "outputs": [],
   "source": []
  }
 ],
 "metadata": {
  "colab": {
   "gpuType": "T4",
   "provenance": []
  },
  "kernelspec": {
   "display_name": "Python 3 (ipykernel)",
   "language": "python",
   "name": "python3"
  },
  "language_info": {
   "codemirror_mode": {
    "name": "ipython",
    "version": 3
   },
   "file_extension": ".py",
   "mimetype": "text/x-python",
   "name": "python",
   "nbconvert_exporter": "python",
   "pygments_lexer": "ipython3",
   "version": "3.7.16"
  }
 },
 "nbformat": 4,
 "nbformat_minor": 1
}
